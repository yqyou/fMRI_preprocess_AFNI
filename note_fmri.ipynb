{
 "cells": [
  {
   "cell_type": "code",
   "execution_count": null,
   "metadata": {},
   "outputs": [],
   "source": [
    "4. surface: area, curv, infl, pial, sphere, sulc, thick, white, \n",
    "\n",
    "\n",
    "1. SliceThickness指的是一个slice的层厚，SpacingBetweenSlices指的是两个silce中点的距离\n",
    "    不同slice之间（可能）是有间隙的，一方面是为了避免两个相邻slice信号的影响，一方面是减少slice number。\n",
    "    slice number和TR是固定的，因此能够覆盖的空间是有限的，这个通过扫描员调整，使得尽可能覆盖被试脑区。\n",
    "2. 每个run中前后空白时间和中间空白试次的作用\n",
    "    前后空白是为了让被试恢复静息状态\n",
    "    穿插空白试次是为了提供基线\n",
    "3. trigger''S''\n",
    "    每个run开始时，实验电脑运行程序，手动按下核磁的\"S\"触发键，捕捉最近一个TR开始点，开始实验程序，使得核磁扫描和实验程序同步\n",
    "4. slice_time_ref的意义\n",
    "    slice_time_ref一般取值范围时0-1，指的是将一个TR中的某个位置时间的slice作为reference slice。\n",
    "    在计算的时候，并不是仅仅改变时间序列，而是对于每个slice，将其和相邻TR对应slice在slice_time_ref处插值，最后每个TR得到slice_time_ref处所有slice的值。"
   ]
  }
 ],
 "metadata": {
  "kernelspec": {
   "display_name": "Python 3",
   "language": "python",
   "name": "python3"
  },
  "language_info": {
   "name": "python",
   "version": "3.7.5"
  },
  "orig_nbformat": 4,
  "vscode": {
   "interpreter": {
    "hash": "43945f80469130c119fb960c4295ae331e7fb51022383025e24ae21a08d5f82b"
   }
  }
 },
 "nbformat": 4,
 "nbformat_minor": 2
}
