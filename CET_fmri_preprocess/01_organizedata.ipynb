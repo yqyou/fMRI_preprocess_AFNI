{
 "cells": [
  {
   "cell_type": "markdown",
   "metadata": {},
   "source": [
    "# 01_organizedata"
   ]
  },
  {
   "cell_type": "markdown",
   "metadata": {},
   "source": [
    "这是MRI数据pipeline的第一部分: 整理数据\n",
    "下面以 20220110_CET_CN003 为例。注意下面命令前面加！号是为了在python环境中跑bash命令"
   ]
  },
  {
   "cell_type": "markdown",
   "metadata": {},
   "source": [
    "1. 上传数据\n",
    "* 连接拷回来的光盘，然后利用ftp软件连接stout之后，上传数据。\n",
    "* 所有的原始数据，都放到 /home/data/rawdata 文件夹下，每一个session用一个文件夹表示，通常为 ‘年月日_实验缩写_被试代号’的格式，例如“20220110_CET_CN003”\n",
    "* 在改文件夹下，新建一个 `mat_files_from_exp`的文件夹用来存放所有的scan里面的行为数据"
   ]
  },
  {
   "cell_type": "markdown",
   "metadata": {},
   "source": [
    "2. 打开terminal, 为是你自己上传，该文件夹只能你个人操作，开放权限让别人也能读取"
   ]
  },
  {
   "cell_type": "code",
   "execution_count": null,
   "metadata": {},
   "outputs": [],
   "source": [
    "%cd /home/data/rawdata\n",
    "! chgrp -R student 20220110_CET_CN003 #修改该文件夹的所属组别\n",
    "! chmod g+w 20220110_CET_CN003 #修改该文件夹的权限\n",
    "# ! chmod -R g+w 20220110_CET_CN003 #修改该文件夹的权限\n",
    "# -R : 对目前目录下的所有文件与子目录进行相同的权限变更(即以递归的方式逐个变更)\n",
    "# u -uers; g -group; o -others; a -all\n",
    "# -d(file type)rwx(uers)rwx(group)rwx(others)"
   ]
  },
  {
   "cell_type": "markdown",
   "metadata": {},
   "source": [
    "3. 整理数据\n",
    "以下用到了afni的函数dcm2niix_afni，请确保已经将afni等软件加入到linux路径，详细见00_prep部分"
   ]
  },
  {
   "cell_type": "code",
   "execution_count": null,
   "metadata": {},
   "outputs": [],
   "source": [
    "! dcm2niix_afni -f %t_%s_%p 20220110_CET_CN003/\n",
    "####\n",
    "! dcm2niix_afni -f %t_%s_%p rawdicom/"
   ]
  },
  {
   "cell_type": "markdown",
   "metadata": {},
   "source": [
    "以上完成之后，进入文件夹会看到一系列的.nii和.json文件。其中.nii就是我们需要的nifit格式的MRI数据文件，.json就是其对应的参数说明文件。文件名中的1,2,3...代表了在扫描时候的顺序"
   ]
  },
  {
   "cell_type": "code",
   "execution_count": null,
   "metadata": {},
   "outputs": [],
   "source": [
    "!cd /20220110_CET_CN003\n",
    "!ls -l"
   ]
  },
  {
   "cell_type": "markdown",
   "metadata": {},
   "source": [
    "3. 整理无关的数据\n",
    "其中原始的dicom文件，还有一些localizer的数据是不需要的。如果其中有一些多余的数据，比如费的结构或者没扫完的功能像，也不需要。"
   ]
  },
  {
   "cell_type": "code",
   "execution_count": null,
   "metadata": {},
   "outputs": [],
   "source": [
    "! mkdir rawfiles\n",
    "! mv *localizer* rawfiles\n",
    "! mv *Localizer* rawfiles\n",
    "! mv *Dicom* rawfiles"
   ]
  },
  {
   "cell_type": "markdown",
   "metadata": {},
   "source": [
    "经过以上的整理，一般的fMRI实验只需要留下t1，epi和field-map的数据"
   ]
  }
 ],
 "metadata": {
  "interpreter": {
   "hash": "f8091ea1e6d38dae048354dfa1b13c9999221a5805e1eeab4fec8127dc3f39ce"
  },
  "kernelspec": {
   "display_name": "Python 3.8.3 64-bit ('base': conda)",
   "language": "python",
   "name": "python3"
  },
  "language_info": {
   "name": "python",
   "version": "3.8.3"
  },
  "orig_nbformat": 4
 },
 "nbformat": 4,
 "nbformat_minor": 2
}
