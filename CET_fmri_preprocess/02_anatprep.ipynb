{
 "cells": [
  {
   "cell_type": "markdown",
   "metadata": {},
   "source": [
    "# 02_anatprep\n",
    "这是MRI数据pipeline的第二部分: 结构像处理\n",
    "下面以 20220110_CET_CN003 为例。注意下面命令前面加！号是为了在python环境中跑bash命令"
   ]
  },
  {
   "cell_type": "markdown",
   "metadata": {},
   "source": [
    "我们先设置一些variable"
   ]
  },
  {
   "cell_type": "code",
   "execution_count": null,
   "metadata": {},
   "outputs": [],
   "source": [
    "# 设置一些variable\n",
    "t1 = '20220110182949_7_t1_mpr_sag_iso_mww.nii' # set the t1 file\n",
    "subj = 'CN003' # 设定一个variable\n",
    "t1_2FS = f'{subj}_2FS.nii.gz' \n",
    "AFNI_HOME = os.getenv('AFNIDIR')\n",
    "FREESURFER_HOME = os.getenv('FREESURFER_HOME') # 获得 FreeSurfer的主文件夹路径\n",
    "MNIT1 = AFNI_HOME + '/MNI152_2009_template_SSW.nii.gz' # 我们用MNI152去掉头皮的模板作为我们的base"
   ]
  },
  {
   "cell_type": "markdown",
   "metadata": {},
   "source": [
    "然后我们新建一个文件夹"
   ]
  },
  {
   "cell_type": "code",
   "execution_count": null,
   "metadata": {},
   "outputs": [],
   "source": [
    "# 我们先走到数据文件夹\n",
    "%cd /home/data/rawdata/20220110_CET_CN003\n",
    "! mkdir anatpp # 新建一个文件夹用来处理t1像\n",
    "! cp {t1} anatpp/ # 把t1像拷贝一份到文件夹里面\n",
    "%cd anatpp/"
   ]
  },
  {
   "cell_type": "markdown",
   "metadata": {},
   "source": [
    "## Step 1. 对t1像进行简单的修改处理"
   ]
  },
  {
   "cell_type": "code",
   "execution_count": null,
   "metadata": {},
   "outputs": [],
   "source": [
    "# 把图像的中点划到统一显示空间的中点\n",
    "! 3drefit -deoblique -xorigin cen -yorigin cen -zorigin cen {t1}\n",
    "# 把图像的朝向划到和标准朝向一致,这一步生成t12std.nii.gz的文件\n",
    "! fslreorient2std {t1} t1_2std.nii.gz "
   ]
  },
  {
   "cell_type": "markdown",
   "metadata": {},
   "source": [
    "注意以上两步仅仅只改变nifti头文件的一些信息，进行标准化，并不修改数据"
   ]
  },
  {
   "cell_type": "code",
   "execution_count": null,
   "metadata": {},
   "outputs": [],
   "source": [
    "# 简单的剥头皮\n",
    "! 3dSkullStrip -input t1_2std.nii.gz -prefix t1_2std_ss.nii.gz -orig_vol\n",
    "\n",
    "# 上面一步把剥掉头皮的t1像和MNI模板按重心位置移动，同时移动t12std.nii.gz, 这样做是为了让其和MNI模板空间上更一致。\n",
    "! @Align_Centers -cm -base {MNIT1} -dset t1_2std_ss.nii.gz -child t1_2std.nii.gz\n",
    "\n",
    "# 清除一下\n",
    "! mv t1_2std_shft.nii.gz {t1_2FS} \n",
    "! rm *t1_2std* # 删除掉多余文件"
   ]
  },
  {
   "cell_type": "markdown",
   "metadata": {},
   "source": [
    "得到给FreeSurfer的T1像之后，我们拷贝一份到/home/data/subjectT1"
   ]
  },
  {
   "cell_type": "code",
   "execution_count": null,
   "metadata": {},
   "outputs": [],
   "source": [
    "# 先检查/home/data/subjectT1/{subj} 是否存在，如果没有，创建一个文件夹\n",
    "! mkdir /home/data/subjectT1/{subj}\n",
    "# 把FreeSurfer的T1文件拷贝进去\n",
    "! cp {t1_2FS} /home/data/subjectT1/{subj}/"
   ]
  },
  {
   "cell_type": "markdown",
   "metadata": {},
   "source": [
    "这样，t1_2FS就是我们要送给FreeSurfer进行重建的t1像，往下的Step2和Step3可以平行进行"
   ]
  },
  {
   "cell_type": "markdown",
   "metadata": {},
   "source": [
    "## Step 2. 送给FreeSurfer进行皮层重建"
   ]
  },
  {
   "cell_type": "markdown",
   "metadata": {},
   "source": [
    "这一步可能需要5-6个小时，需要单独开启一个tmux的会话并打开ipython\n",
    "\n",
    "然后我们来跑FreeSurfer"
   ]
  },
  {
   "cell_type": "code",
   "execution_count": null,
   "metadata": {},
   "outputs": [],
   "source": [
    "%cd /home/data/subjectT1/{subj}\n",
    "! recon-all -s {subj} -i {subj}_2FS.nii.gz -all > ./reconlog.txt"
   ]
  },
  {
   "cell_type": "markdown",
   "metadata": {},
   "source": [
    "recon-all 会在/home/software/freesurfer/subjects下面创建一个{subj}名字的文件夹，例如CN003。如果该文件夹已经存在(例如recon-all中途中断，但是重新跑一次)都会报错。这时删除之前的旧文件夹就行了。所有的报错信息都在reconlog.txt这个文件夹下。\n",
    "\n",
    "这一步可能会要很长时间。在stout上面测试跑单个被试需要6个小时。。这一步所有的输出都在reconlog.txt里面\n",
    "这一步跑完之后。把非线性配准的结果文件移动到FreeSurfer被试文件夹下面"
   ]
  },
  {
   "cell_type": "markdown",
   "metadata": {},
   "source": [
    "## Step 3. 将T1结构像线性和非线性配准到MNI空间"
   ]
  },
  {
   "cell_type": "markdown",
   "metadata": {},
   "source": [
    "在Step2正在跑的同时，我们可以平行的开始做step3。同样的，这一步最好单开一个tmux的会话。\n",
    "这一步是将个体的t1像配准到MNI标准空间和MNI152的标准模板，这是基于volume的分析的基础"
   ]
  },
  {
   "cell_type": "code",
   "execution_count": null,
   "metadata": {},
   "outputs": [],
   "source": [
    "%cd /home/data/subjectT1/{subj}\n",
    "! mkdir mni # make a new directory\n",
    "! @SSwarper -input {t1_2FS} -base {MNIT1} -subid {subj} -odir mni -verb\n",
    "# 创建一个剥头皮的mask，如果剥头皮效果不满意，可以手动编辑这个mask，然后再手动剥头皮\n",
    "%cd mni/\n",
    "! 3dcalc -a anatSS.{subj}.nii -expr 'step(a)' -prefix anatSSmask.{subj}.nii\n",
    "print('Nonlinear warping done!')"
   ]
  },
  {
   "cell_type": "markdown",
   "metadata": {},
   "source": [
    "这一步可能需要半小时左右，一般会早于step2结束。"
   ]
  },
  {
   "cell_type": "markdown",
   "metadata": {},
   "source": [
    "## Step 4. afni中皮层加工模块SUMA的设置"
   ]
  },
  {
   "cell_type": "markdown",
   "metadata": {},
   "source": [
    "切记完全成了Step2和3再来进行第四步,首先我们把step3中间的非线性配准的文件夹放到freesurfer里面去"
   ]
  },
  {
   "cell_type": "code",
   "execution_count": null,
   "metadata": {},
   "outputs": [],
   "source": [
    "! mv /home/data/subjectT1/{subj}/mni {FREESURFER_HOME}/subjects/{subj}/ # 移动step3获得到mni文件夹到step2生成的CN003文件夹"
   ]
  },
  {
   "cell_type": "markdown",
   "metadata": {},
   "source": [
    "AFNI中用来进行皮层加工模块的是SUMA。利用FreeSurfer进行了皮层重建之后，需要对SUMA进行一定的设置"
   ]
  },
  {
   "cell_type": "code",
   "execution_count": null,
   "metadata": {},
   "outputs": [],
   "source": [
    "! @SUMA_Make_Spec_FS -sid {subj} -fspath {FREESURFER_HOME}/subjects/{subj} -NIFTI > SUMA_Make_Spec_FS.log"
   ]
  },
  {
   "cell_type": "markdown",
   "metadata": {},
   "source": [
    "以上的命令会在FreeSurfer subjects中的例如CN003的文件夹下再创建一个SUMA的文件夹，里面包含了SUMA需要的一些文件。SUMA是连接AFNI和FreeSurfer之间的工具，让在AFNI上进行皮层分析成为可能。\n",
    "\n",
    "这一步可能需要10分钟左右。完成之后，我们打开远程桌面，打开一个terminal (注意这一步是bash命令，不用ipython)，输入以下的命令，可以打开afni和suma来检查互相的联通情况。"
   ]
  },
  {
   "cell_type": "code",
   "execution_count": null,
   "metadata": {},
   "outputs": [],
   "source": [
    "# 注意替换被试名\n",
    "afni -niml & suma -spec $FREESURFER_HOME/subjects/$subj/SUMA/CN003_both.spec \\\n",
    "-sv $FREESURFER_HOME/subjects/$subj/SUMA/CN003_SurfVol.nii\n",
    "\n",
    "afni -niml & suma -spec CN003_both.spec -sv CN003_SurfVol.nii"
   ]
  },
  {
   "cell_type": "markdown",
   "metadata": {},
   "source": [
    "## 总结"
   ]
  },
  {
   "cell_type": "markdown",
   "metadata": {},
   "source": [
    "下面总结一下结构像处理的要点\n",
    "* 结构像一般只需要处理t1像\n",
    "* 在跑FreeSurfer之前，最好通过3drefit, @Align_Centers等函数让被试的t1像和MNI152的t1模板在空间位置上尽可能的重合。有时候可能需要手动调整。这一步需要利用fsleyes来人工确认。在跑FreeSurfer之前。\n",
    "* 送给FreeSurfer之前的t1像，在stout上面通常会备份在例如/home/data/subjectT1/CN003.FreeSurfer皮层重建的信息也会保存在这\n",
    "* 在FreeSurfer进行皮层重建，会在FreeSurfer的被试文件夹下面，在stout上面就是/home/software/freesurfer/subjects 创建一个以被试名字命名的文件夹\n",
    "* 利用afni做基于volume的非线性配准，会生成一个mni的文件夹,最后会copy到freesurfer下面被试的文件夹\n",
    "* 利用afni做基于volume的非线性配准，完成只有需要人工检查配准结果\n",
    "* 利用afni对FreeSurfer的结构做重新整理，freesurfer下面该被试的文件夹会生成一个SUMA的文件夹"
   ]
  },
  {
   "cell_type": "markdown",
   "metadata": {},
   "source": []
  }
 ],
 "metadata": {
  "kernelspec": {
   "display_name": "Python 3.7.5 64-bit",
   "language": "python",
   "name": "python3"
  },
  "language_info": {
   "codemirror_mode": {
    "name": "ipython",
    "version": 3
   },
   "file_extension": ".py",
   "mimetype": "text/x-python",
   "name": "python",
   "nbconvert_exporter": "python",
   "pygments_lexer": "ipython3",
   "version": "3.7.5 (tags/v3.7.5:5c02a39a0b, Oct 15 2019, 00:11:34) [MSC v.1916 64 bit (AMD64)]"
  },
  "vscode": {
   "interpreter": {
    "hash": "43945f80469130c119fb960c4295ae331e7fb51022383025e24ae21a08d5f82b"
   }
  }
 },
 "nbformat": 4,
 "nbformat_minor": 4
}
