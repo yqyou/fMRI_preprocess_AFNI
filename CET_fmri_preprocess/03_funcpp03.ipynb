{
 "cells": [
  {
   "cell_type": "markdown",
   "metadata": {},
   "source": [
    "# 03_funcpp03"
   ]
  },
  {
   "cell_type": "markdown",
   "metadata": {},
   "source": [
    "这是功能像预处理的第三部分。第二部分已经完成了最主要的预处理工作，这部分我们主要是做一些检查和清理工作"
   ]
  },
  {
   "cell_type": "markdown",
   "metadata": {},
   "source": [
    "# Step 1. "
   ]
  },
  {
   "cell_type": "markdown",
   "metadata": {},
   "source": [
    "首先，我们跑一个GLM，把所有的头动信息都回归掉，然后来计算一系列的诊断信息"
   ]
  },
  {
   "cell_type": "code",
   "execution_count": null,
   "metadata": {},
   "outputs": [],
   "source": [
    "# ================================ regress =================================\n",
    "# compute de-meaned motion parameters (for use in regression)\n",
    "# in regress (detrend step)\n",
    "\n",
    "# ------------------------------\n",
    "# run the regression analysis. Note that stats results should be written as afni format\n",
    "\n",
    "! 3dDeconvolve -input pb07.{subj}.r*.scale+tlrc.HEAD \\\n",
    "    -mask mask_epi_anat.{subj}.nii.gz \\\n",
    "    -censor motion_{subj}_censor.1D \\\n",
    "    -ortvec motion_demean.1D mot_demean \\\n",
    "    -polort 2 \\\n",
    "    -num_stimts 0 \\\n",
    "    -rout \\\n",
    "    -fout -tout -x1D X.xmat.1D -xjpeg X.jpg \\\n",
    "    -x1D_uncensored X.nocensor.xmat.1D \\\n",
    "    -fitts motpoly.fitts.{subj} \\\n",
    "    -errts motpoly.errts.{subj} \\\n",
    "    -bucket motpoly.stats.{subj}\n",
    "\n",
    "# should add save a script here\n",
    "\n",
    "# -- use 3dTproject to project out regression matrix --\n",
    "! 3dTproject -polort 0 -input pb07.{subj}.r*.scale+tlrc.HEAD \\\n",
    "           -censor motion_{subj}_censor.1D -cenmode ZERO \\\n",
    "           -ort X.nocensor.xmat.1D -prefix motpoly.errts.{subj}.tproject\n",
    "# 3dTproject can also supply '-passband 0.01, 0.08' to band pass time seriest\n",
    "\n",
    "! rm -f motpoly.stats* motpoly.fitts* # remove some large files"
   ]
  },
  {
   "cell_type": "markdown",
   "metadata": {},
   "source": [
    "## Step 2. 计算temporal signal-to-noise ratio"
   ]
  },
  {
   "cell_type": "code",
   "execution_count": null,
   "metadata": {},
   "outputs": [],
   "source": [
    "# --------------------------------------------------\n",
    "# create a temporal signal to noise ratio dataset\n",
    "#    signal: if 'scale' block, mean should be 100\n",
    "#    noise : compute standard deviation of errts\n",
    "unix_wrapper(f'3dTstat -mean -prefix rm.signal.all.nii.gz all_runs.{subj}.nii.gz\"[{ktrs}]\"')\n",
    "unix_wrapper(f'3dTstat -stdev -prefix rm.noise.all.nii.gz motpoly.errts.{subj}.tproject+tlrc\"[{ktrs}]\"')\n",
    "! 3dcalc -a rm.signal.all.nii.gz \\\n",
    "       -b rm.noise.all.nii.gz \\\n",
    "       -c full_mask.{subj}.nii.gz \\\n",
    "       -expr \"c*a/b\" -prefix TSNR.{subj}.nii.gz\n",
    "\n",
    "# remove redundant files\n",
    "! rm rm.signal.all* rm.noise.all*\n",
    "! rm motpoly.errts* X*"
   ]
  },
  {
   "cell_type": "markdown",
   "metadata": {},
   "source": [
    "## Step 3. clean up"
   ]
  },
  {
   "cell_type": "code",
   "execution_count": null,
   "metadata": {},
   "outputs": [],
   "source": [
    "# ========================== auto block: finalize ==========================\n",
    "# Remove temporary files\n",
    "rm -f rm.* # finally remove some left-over files\n",
    "\n",
    "# We can further remove despike, tshift and volreg data at the end volreg are big\n",
    "! rm -f all_runs*\n",
    "! rm anatQQ* MNI152_2009_template_SSW.nii.gz\n",
    "! rm pb02* pb04* pb05* pb06*\n",
    "! rm epi_mean_tmp*\n",
    "\n",
    "# organize data\n",
    "\n",
    "\n",
    "# ==================== preprocessing done ==================================\n",
    "# return to previous directory\n",
    "os.chdir(cwd)\n",
    "os.environ['SHELL'] = orig_shell     # switch back to the original shell\n",
    "print(f'\\n=============== Preprocessing started: {start_time} ================\\n')\n",
    "print(f'\\n=============== Preprocessing finished: {gettimestr(\"full\")} ================\\n')"
   ]
  }
 ],
 "metadata": {
  "kernelspec": {
   "display_name": "Python 3.7.5 64-bit",
   "language": "python",
   "name": "python3"
  },
  "language_info": {
   "name": "python",
   "version": "3.7.5"
  },
  "orig_nbformat": 4,
  "vscode": {
   "interpreter": {
    "hash": "43945f80469130c119fb960c4295ae331e7fb51022383025e24ae21a08d5f82b"
   }
  }
 },
 "nbformat": 4,
 "nbformat_minor": 2
}
